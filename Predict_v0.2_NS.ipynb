{
 "cells": [
  {
   "cell_type": "code",
   "execution_count": 47,
   "metadata": {},
   "outputs": [
    {
     "data": {
      "text/html": [
       "<style>svg{width:30% !important;height:30% !important;}</style>"
      ],
      "text/plain": [
       "<IPython.core.display.HTML object>"
      ]
     },
     "execution_count": 47,
     "metadata": {},
     "output_type": "execute_result"
    }
   ],
   "source": [
    "import pandas as pd\n",
    "import numpy as np\n",
    "# а также импортируем модули Seaborn и Matplotlib для работы с графикой.\n",
    "import matplotlib.pyplot as plt\n",
    "import seaborn as sns\n",
    "from IPython.display import HTML\n",
    "import datetime as datetime\n",
    "# %load_ext autoreload\n",
    "# %autoreload 2\n",
    "\n",
    "\n",
    "from sklearn import tree\n",
    "from sklearn.tree import DecisionTreeClassifier\n",
    "from sklearn.model_selection import GridSearchCV\n",
    "from sklearn.datasets import load_iris\n",
    "from sklearn.ensemble import RandomForestClassifier\n",
    "import sys\n",
    "import os\n",
    "from graphviz import Source\n",
    "from IPython.display import SVG\n",
    "\n",
    "%matplotlib inline\n",
    "\n",
    "from tqdm import tqdm, tqdm_notebook\n",
    "import datetime\n",
    "\n",
    "from sklearn.ensemble import RandomForestClassifier\n",
    "from sklearn.model_selection import train_test_split, cross_val_score\n",
    "from sklearn.metrics import classification_report, roc_auc_score, confusion_matrix\n",
    "\n",
    "\n",
    "sys.path.append(os.path.join(sys.path[0], '../'))\n",
    "\n",
    "from sklearn.ensemble import AdaBoostClassifier\n",
    "\n",
    "from IPython.core.interactiveshell import InteractiveShell\n",
    "InteractiveShell.ast_node_interactivity = \"all\"\n",
    "style = \"<style>svg{width:30% !important;height:30% !important;}</style>\"\n",
    "HTML(style)\n",
    "\n",
    "# import hierarchical clustering libraries\n",
    "import scipy.cluster.hierarchy as sch\n",
    "from sklearn.cluster import AgglomerativeClustering"
   ]
  },
  {
   "cell_type": "code",
   "execution_count": null,
   "metadata": {},
   "outputs": [],
   "source": []
  },
  {
   "cell_type": "code",
   "execution_count": 48,
   "metadata": {},
   "outputs": [
    {
     "name": "stdout",
     "output_type": "stream",
     "text": [
      "The ipytelegram extension is already loaded. To reload it, use:\n",
      "  %reload_ext ipytelegram\n"
     ]
    }
   ],
   "source": [
    "# %%telegram_send \"Эпохи обработаны\"!\n",
    "import telepot\n",
    "%load_ext ipytelegram\n",
    "%reload_ext ipytelegram\n",
    "%telegram_setup <AAFyFIYwdtDL_w1EK9t5X89H66vK_N-Fys> <1859374621>\n",
    "# bot = telepot.bot('1859374621:AAFyFIYwdtDL_w1EK9t5X89H66vK_N-FysU')\n",
    "# bot.getUpdates()['mesage']['chat']\n",
    "%telegram_setup 1859374621:AAFyFIYwdtDL_w1EK9t5X89H66vK_N-FysU 1338353058"
   ]
  },
  {
   "cell_type": "code",
   "execution_count": 49,
   "metadata": {},
   "outputs": [],
   "source": [
    "xls = pd.read_excel('df.xlsx')"
   ]
  },
  {
   "cell_type": "markdown",
   "metadata": {},
   "source": [
    "# Готовим данные"
   ]
  },
  {
   "cell_type": "code",
   "execution_count": 50,
   "metadata": {},
   "outputs": [],
   "source": [
    "df_pp = xls.copy(deep=True)\n",
    "df_pp = df_pp.loc[:, ~df_pp.columns.str.contains('^Unnamed')]\n",
    "df_pp = df_pp.replace(to_replace =',', value = '.', regex = True)\n",
    "#df.rename(columns={'Потребкредит': 'type_credit'}, inplace=True)\n",
    "df_pp = df_pp.fillna(0)\n",
    "#df_pp.dtypes\n",
    "#df_pp.columns"
   ]
  },
  {
   "cell_type": "code",
   "execution_count": 53,
   "metadata": {
    "scrolled": true
   },
   "outputs": [],
   "source": [
    "# df = df_pp.drop(['№', 'name', \n",
    "#        'legal', 'soft', 'sale', 'arhive'], axis = 1)\n",
    "\n",
    "# #df.dtypes\n",
    "# df.columns"
   ]
  },
  {
   "cell_type": "code",
   "execution_count": 55,
   "metadata": {},
   "outputs": [],
   "source": [
    "# df_ds = pd.get_dummies(df, columns=[\"type\"])\n",
    "# #df_ds = pd.get_dummies(df_ds, columns=[\"region\"])\n",
    "# # \n",
    "# #df_ds.head()\n",
    "\n",
    "\n"
   ]
  },
  {
   "cell_type": "code",
   "execution_count": 56,
   "metadata": {},
   "outputs": [],
   "source": [
    "\n",
    "from tensorflow.keras.models import Sequential\n",
    "from tensorflow.keras.layers import Dense\n",
    "import matplotlib.pyplot as plt\n",
    "import numpy as np\n",
    "%matplotlib inline "
   ]
  },
  {
   "cell_type": "code",
   "execution_count": 57,
   "metadata": {},
   "outputs": [],
   "source": [
    "df_train = df_ds[df_ds['case'].isin([\"Сбер3\"])] #\n",
    "\n",
    "\n",
    "# Отбросим колонку, которую будем предсказывать.\n",
    "X_train = df_train.drop([ 'income_sum', 'income', 'target', 'tg_grade', 'case'], axis=1)\n",
    "# Создадим переменную, которую будем предсказывать.\n",
    "y_train = df_train.target\n",
    "\n",
    "\n",
    "df_test = df_ds[df_ds['case'].isin([\"Сбер4\"])] #\n",
    "\n",
    "\n",
    "# Отбросим колонку, которую будем предсказывать.\n",
    "X_test = df_test.drop([ 'income_sum', 'income', 'target', 'tg_grade', 'case'], axis=1)\n",
    "# Создадим переменную, которую будем предсказывать.\n",
    "y_test = df_test.target\n",
    "\n",
    "\n",
    "df_ros = df_ds[df_ds['case'].isin([\"Росбанк1\"])] #\n",
    "\n",
    "\n",
    "# Отбросим колонку, которую будем предсказывать.\n",
    "X_ros = df_ros.drop([ 'income_sum', 'income', 'target', 'tg_grade', 'case'], axis=1)\n",
    "# Создадим переменную, которую будем предсказывать.\n",
    "y_ros = df_ros.target\n",
    "#X_t\n",
    "\n",
    "# x_train.fillna(0)\n",
    "# x_test.fillna(0)\n",
    "\n",
    "x_train = X_train\n",
    "y_train = y_train\n",
    "x_test = X_test\n",
    "y_test = y_test"
   ]
  },
  {
   "cell_type": "code",
   "execution_count": 58,
   "metadata": {},
   "outputs": [],
   "source": [
    "# x_train\n",
    "# # y_train\n",
    "# x_test\n",
    "# # y_test"
   ]
  },
  {
   "cell_type": "code",
   "execution_count": 59,
   "metadata": {},
   "outputs": [],
   "source": [
    "import pandas as pd\n",
    "import numpy as np\n",
    "import os\n",
    "import tqdm\n",
    "import pickle\n",
    "\n",
    "\n",
    "from sklearn.model_selection import train_test_split, KFold\n",
    "from sklearn.metrics import roc_auc_score\n",
    "\n",
    "from catboost import CatBoostClassifier, Pool\n",
    "os.environ[\"CUDA_VISIBLE_DEVICES\"] = '0'\n",
    "\n",
    "np.warnings.filterwarnings('ignore')"
   ]
  },
  {
   "cell_type": "code",
   "execution_count": null,
   "metadata": {},
   "outputs": [],
   "source": [
    "\n"
   ]
  },
  {
   "cell_type": "code",
   "execution_count": 60,
   "metadata": {},
   "outputs": [
    {
     "name": "stdout",
     "output_type": "stream",
     "text": [
      "Началось обучение на фолде номер:= 1.\n",
      "0:\ttest: 0.6875450\tbest: 0.6875450 (0)\ttotal: 3.52ms\tremaining: 3.52s\n",
      "50:\ttest: 0.7243082\tbest: 0.7243082 (50)\ttotal: 160ms\tremaining: 2.98s\n",
      "100:\ttest: 0.7492494\tbest: 0.7492494 (100)\ttotal: 328ms\tremaining: 2.92s\n",
      "150:\ttest: 0.7652345\tbest: 0.7652345 (150)\ttotal: 494ms\tremaining: 2.77s\n",
      "200:\ttest: 0.7819454\tbest: 0.7819454 (200)\ttotal: 670ms\tremaining: 2.66s\n",
      "250:\ttest: 0.7959004\tbest: 0.7959004 (250)\ttotal: 847ms\tremaining: 2.53s\n",
      "300:\ttest: 0.8105308\tbest: 0.8105308 (300)\ttotal: 1.03s\tremaining: 2.4s\n",
      "350:\ttest: 0.8252362\tbest: 0.8252362 (350)\ttotal: 1.23s\tremaining: 2.27s\n",
      "400:\ttest: 0.8395277\tbest: 0.8395277 (400)\ttotal: 1.47s\tremaining: 2.2s\n",
      "450:\ttest: 0.8551739\tbest: 0.8551739 (450)\ttotal: 1.78s\tremaining: 2.17s\n",
      "500:\ttest: 0.8677216\tbest: 0.8677216 (500)\ttotal: 2.17s\tremaining: 2.17s\n",
      "550:\ttest: 0.8794759\tbest: 0.8794759 (550)\ttotal: 2.41s\tremaining: 1.96s\n",
      "600:\ttest: 0.8907638\tbest: 0.8907638 (600)\ttotal: 2.63s\tremaining: 1.75s\n",
      "650:\ttest: 0.8996355\tbest: 0.8996355 (650)\ttotal: 2.79s\tremaining: 1.49s\n",
      "700:\ttest: 0.9078944\tbest: 0.9078944 (700)\ttotal: 2.94s\tremaining: 1.25s\n",
      "750:\ttest: 0.9166010\tbest: 0.9166010 (750)\ttotal: 3.1s\tremaining: 1.03s\n",
      "800:\ttest: 0.9235927\tbest: 0.9235995 (799)\ttotal: 3.25s\tremaining: 807ms\n",
      "850:\ttest: 0.9294808\tbest: 0.9294808 (850)\ttotal: 3.4s\tremaining: 595ms\n",
      "900:\ttest: 0.9364666\tbest: 0.9364666 (900)\ttotal: 3.56s\tremaining: 391ms\n",
      "950:\ttest: 0.9422127\tbest: 0.9422127 (950)\ttotal: 3.71s\tremaining: 191ms\n",
      "999:\ttest: 0.9465941\tbest: 0.9465941 (999)\ttotal: 3.86s\tremaining: 0us\n",
      "\n",
      "bestTest = 0.9465940754\n",
      "bestIteration = 999\n",
      "\n"
     ]
    },
    {
     "data": {
      "text/plain": [
       "<catboost.core.CatBoostClassifier at 0x202e770ba30>"
      ]
     },
     "execution_count": 60,
     "metadata": {},
     "output_type": "execute_result"
    },
    {
     "ename": "ValueError",
     "evalue": "shape mismatch: value array of shape (3075,) could not be broadcast to indexing result of shape (615,)",
     "output_type": "error",
     "traceback": [
      "\u001b[1;31m---------------------------------------------------------------------------\u001b[0m",
      "\u001b[1;31mValueError\u001b[0m                                Traceback (most recent call last)",
      "\u001b[1;32m<ipython-input-60-9acc63d7839d>\u001b[0m in \u001b[0;36m<module>\u001b[1;34m\u001b[0m\n\u001b[0;32m     29\u001b[0m     \u001b[0mmodel\u001b[0m\u001b[1;33m.\u001b[0m\u001b[0mfit\u001b[0m\u001b[1;33m(\u001b[0m\u001b[0mtrain_pool\u001b[0m\u001b[1;33m,\u001b[0m \u001b[0meval_set\u001b[0m\u001b[1;33m=\u001b[0m\u001b[1;33m[\u001b[0m\u001b[0mval_pool\u001b[0m\u001b[1;33m]\u001b[0m\u001b[1;33m,\u001b[0m \u001b[0mearly_stopping_rounds\u001b[0m\u001b[1;33m=\u001b[0m\u001b[1;36m100\u001b[0m\u001b[1;33m,\u001b[0m \u001b[0mverbose_eval\u001b[0m\u001b[1;33m=\u001b[0m\u001b[1;36m50\u001b[0m\u001b[1;33m,\u001b[0m \u001b[0muse_best_model\u001b[0m\u001b[1;33m=\u001b[0m\u001b[1;32mTrue\u001b[0m\u001b[1;33m,\u001b[0m \u001b[0mplot\u001b[0m\u001b[1;33m=\u001b[0m\u001b[1;32mFalse\u001b[0m\u001b[1;33m)\u001b[0m\u001b[1;33m\u001b[0m\u001b[1;33m\u001b[0m\u001b[0m\n\u001b[0;32m     30\u001b[0m \u001b[1;33m\u001b[0m\u001b[0m\n\u001b[1;32m---> 31\u001b[1;33m     \u001b[0moof\u001b[0m\u001b[1;33m[\u001b[0m\u001b[0mval_idx\u001b[0m\u001b[1;33m]\u001b[0m \u001b[1;33m=\u001b[0m \u001b[0mmodel\u001b[0m\u001b[1;33m.\u001b[0m\u001b[0mpredict_proba\u001b[0m\u001b[1;33m(\u001b[0m\u001b[0mval_pool\u001b[0m\u001b[1;33m)\u001b[0m\u001b[1;33m[\u001b[0m\u001b[1;33m:\u001b[0m\u001b[1;33m,\u001b[0m \u001b[1;36m1\u001b[0m\u001b[1;33m]\u001b[0m\u001b[1;33m\u001b[0m\u001b[1;33m\u001b[0m\u001b[0m\n\u001b[0m\u001b[0;32m     32\u001b[0m \u001b[1;33m\u001b[0m\u001b[0m\n\u001b[0;32m     33\u001b[0m     \u001b[0mtrain_preds\u001b[0m\u001b[1;33m[\u001b[0m\u001b[0mtrain_idx\u001b[0m\u001b[1;33m]\u001b[0m \u001b[1;33m+=\u001b[0m \u001b[0mmodel\u001b[0m\u001b[1;33m.\u001b[0m\u001b[0mpredict_proba\u001b[0m\u001b[1;33m(\u001b[0m\u001b[0mtrain_pool\u001b[0m\u001b[1;33m)\u001b[0m\u001b[1;33m[\u001b[0m\u001b[1;33m:\u001b[0m\u001b[1;33m,\u001b[0m \u001b[1;36m1\u001b[0m\u001b[1;33m]\u001b[0m \u001b[1;33m/\u001b[0m \u001b[1;33m(\u001b[0m\u001b[0mcv\u001b[0m\u001b[1;33m.\u001b[0m\u001b[0mn_splits\u001b[0m\u001b[1;33m-\u001b[0m\u001b[1;36m1\u001b[0m\u001b[1;33m)\u001b[0m\u001b[1;33m\u001b[0m\u001b[1;33m\u001b[0m\u001b[0m\n",
      "\u001b[1;31mValueError\u001b[0m: shape mismatch: value array of shape (3075,) could not be broadcast to indexing result of shape (615,)"
     ]
    }
   ],
   "source": [
    "cv = KFold(n_splits=5, random_state=100, shuffle=True)\n",
    "#%%time\n",
    "\n",
    "oof = np.zeros(len(x_train))\n",
    "train_preds = np.zeros(len(x_train))\n",
    "\n",
    "models = []\n",
    "\n",
    "tree_params = {\n",
    "    'max_depth': 5,\n",
    "    'eval_metric': 'AUC',\n",
    "    'loss_function': 'Logloss',\n",
    "    'random_state': 100,\n",
    "    'l2_leaf_reg': 1,\n",
    "    #'task_type': 'GPU' # если имеется GPU с CUDA, то можно ее задействовать, чтобы на порядок ускорить обучение\n",
    "}\n",
    "\n",
    "\n",
    "for fold_, (train_idx, val_idx) in enumerate(cv.split(x_train, y_train), 1):\n",
    "    print(f'Началось обучение на фолде номер:= {fold_}.')\n",
    "    model = CatBoostClassifier(**tree_params)    \n",
    "    \n",
    "    train, val = x_train.iloc[train_idx], x_train.iloc[val_idx]\n",
    "    \n",
    "    train_pool = Pool(x_train, y_train.values)\n",
    "    val_pool = Pool(x_train, y_train.values)\n",
    "    \n",
    "\n",
    "    model.fit(train_pool, eval_set=[val_pool], early_stopping_rounds=100, verbose_eval=50, use_best_model=True, plot=False)\n",
    "    \n",
    "    oof[val_idx] = model.predict_proba(val_pool)[:, 1]\n",
    "    \n",
    "    train_preds[train_idx] += model.predict_proba(train_pool)[:, 1] / (cv.n_splits-1)\n",
    "    models.append(model)\n",
    "    \n",
    "    file_name_model = f'model_CatBoost/model_{name_model}_{fold_}'\n",
    "    model.save_model(PATH_TO_WORKDIR + file_name_model)\n",
    "    print(f'Обучение на фолде номер:= {fold_} завершилось.')\n"
   ]
  },
  {
   "cell_type": "code",
   "execution_count": null,
   "metadata": {},
   "outputs": [],
   "source": []
  },
  {
   "cell_type": "code",
   "execution_count": null,
   "metadata": {},
   "outputs": [],
   "source": []
  },
  {
   "cell_type": "code",
   "execution_count": null,
   "metadata": {},
   "outputs": [],
   "source": []
  },
  {
   "cell_type": "code",
   "execution_count": null,
   "metadata": {},
   "outputs": [],
   "source": []
  },
  {
   "cell_type": "code",
   "execution_count": null,
   "metadata": {},
   "outputs": [],
   "source": []
  },
  {
   "cell_type": "code",
   "execution_count": null,
   "metadata": {},
   "outputs": [],
   "source": [
    "\n"
   ]
  },
  {
   "cell_type": "code",
   "execution_count": null,
   "metadata": {},
   "outputs": [],
   "source": []
  },
  {
   "cell_type": "code",
   "execution_count": null,
   "metadata": {},
   "outputs": [],
   "source": []
  },
  {
   "cell_type": "code",
   "execution_count": null,
   "metadata": {},
   "outputs": [],
   "source": []
  },
  {
   "cell_type": "code",
   "execution_count": null,
   "metadata": {},
   "outputs": [],
   "source": []
  },
  {
   "cell_type": "code",
   "execution_count": 61,
   "metadata": {},
   "outputs": [],
   "source": [
    "model = Sequential()\n",
    "model.add(Dense(64, activation='relu', input_shape=(x_train.shape[1],)))\n",
    "model.add(Dense(64, activation='relu'))\n",
    "model.add(Dense(1, activation='sigmoid')) # sigmoid, т.к. данные от 0 до 1"
   ]
  },
  {
   "cell_type": "code",
   "execution_count": 62,
   "metadata": {},
   "outputs": [
    {
     "name": "stdout",
     "output_type": "stream",
     "text": [
      "Model: \"sequential_1\"\n",
      "_________________________________________________________________\n",
      "Layer (type)                 Output Shape              Param #   \n",
      "=================================================================\n",
      "dense_3 (Dense)              (None, 64)                1728      \n",
      "_________________________________________________________________\n",
      "dense_4 (Dense)              (None, 64)                4160      \n",
      "_________________________________________________________________\n",
      "dense_5 (Dense)              (None, 1)                 65        \n",
      "=================================================================\n",
      "Total params: 5,953\n",
      "Trainable params: 5,953\n",
      "Non-trainable params: 0\n",
      "_________________________________________________________________\n",
      "None\n"
     ]
    }
   ],
   "source": [
    "print(model.summary()) # архитектура нашей модели"
   ]
  },
  {
   "cell_type": "code",
   "execution_count": null,
   "metadata": {},
   "outputs": [],
   "source": []
  },
  {
   "cell_type": "code",
   "execution_count": null,
   "metadata": {},
   "outputs": [],
   "source": []
  },
  {
   "cell_type": "code",
   "execution_count": null,
   "metadata": {},
   "outputs": [],
   "source": []
  },
  {
   "cell_type": "code",
   "execution_count": null,
   "metadata": {},
   "outputs": [],
   "source": []
  },
  {
   "cell_type": "code",
   "execution_count": 63,
   "metadata": {},
   "outputs": [],
   "source": [
    "\n",
    "\n",
    "\n",
    "pred = model.predict(X_ros).flatten() \n",
    "\n",
    "\n",
    "#predictions = scaler.inverse_transform(predictions)\n",
    "X_ros['pred'] = pred\n",
    "\n",
    "\n",
    "writer = pd.ExcelWriter('X_ros_V0.1.xlsx')\n",
    "X_ros.to_excel(writer)\n",
    "writer.save()"
   ]
  },
  {
   "cell_type": "code",
   "execution_count": null,
   "metadata": {},
   "outputs": [],
   "source": []
  },
  {
   "cell_type": "code",
   "execution_count": null,
   "metadata": {},
   "outputs": [],
   "source": []
  },
  {
   "cell_type": "code",
   "execution_count": null,
   "metadata": {},
   "outputs": [],
   "source": []
  },
  {
   "cell_type": "code",
   "execution_count": null,
   "metadata": {},
   "outputs": [],
   "source": []
  },
  {
   "cell_type": "code",
   "execution_count": null,
   "metadata": {
    "scrolled": false
   },
   "outputs": [],
   "source": []
  },
  {
   "cell_type": "code",
   "execution_count": null,
   "metadata": {},
   "outputs": [],
   "source": []
  },
  {
   "cell_type": "code",
   "execution_count": null,
   "metadata": {},
   "outputs": [],
   "source": []
  },
  {
   "cell_type": "code",
   "execution_count": null,
   "metadata": {},
   "outputs": [],
   "source": []
  },
  {
   "cell_type": "code",
   "execution_count": null,
   "metadata": {},
   "outputs": [],
   "source": []
  },
  {
   "cell_type": "code",
   "execution_count": null,
   "metadata": {},
   "outputs": [],
   "source": []
  }
 ],
 "metadata": {
  "kernelspec": {
   "display_name": "Python 3",
   "language": "python",
   "name": "python3"
  },
  "language_info": {
   "codemirror_mode": {
    "name": "ipython",
    "version": 3
   },
   "file_extension": ".py",
   "mimetype": "text/x-python",
   "name": "python",
   "nbconvert_exporter": "python",
   "pygments_lexer": "ipython3",
   "version": "3.8.8"
  }
 },
 "nbformat": 4,
 "nbformat_minor": 4
}
