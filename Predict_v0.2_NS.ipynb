{
 "cells": [
  {
   "cell_type": "code",
   "execution_count": 1,
   "metadata": {},
   "outputs": [],
   "source": [
    "import pandas as pd\n",
    "import numpy as np\n",
    "# а также импортируем модули Seaborn и Matplotlib для работы с графикой.\n",
    "import matplotlib.pyplot as plt\n",
    "import seaborn as sns\n",
    "from IPython.display import HTML\n",
    "import datetime as datetime\n",
    "# %load_ext autoreload\n",
    "# %autoreload 2\n",
    "\n",
    "\n",
    "from sklearn import tree\n",
    "from sklearn.tree import DecisionTreeClassifier\n",
    "from sklearn.model_selection import GridSearchCV\n",
    "from sklearn.datasets import load_iris\n",
    "from sklearn.ensemble import RandomForestClassifier\n",
    "import sys\n",
    "import os\n",
    "from graphviz import Source\n",
    "from IPython.display import SVG\n",
    "\n",
    "%matplotlib inline\n",
    "\n",
    "from tqdm import tqdm, tqdm_notebook\n",
    "import datetime\n",
    "\n",
    "from sklearn.ensemble import RandomForestClassifier\n",
    "from sklearn.model_selection import train_test_split, cross_val_score\n",
    "from sklearn.metrics import classification_report, roc_auc_score, confusion_matrix\n",
    "\n",
    "\n",
    "sys.path.append(os.path.join(sys.path[0], '../'))\n",
    "\n",
    "from sklearn.ensemble import AdaBoostClassifier\n",
    "\n",
    "from IPython.core.interactiveshell import InteractiveShell\n",
    "InteractiveShell.ast_node_interactivity = \"all\"\n",
    "style = \"<style>svg{width:30% !important;height:30% !important;}</style>\"\n",
    "HTML(style)\n",
    "\n",
    "# import hierarchical clustering libraries\n",
    "import scipy.cluster.hierarchy as sch\n",
    "from sklearn.cluster import AgglomerativeClustering"
   ]
  },
  {
   "cell_type": "code",
   "execution_count": null,
   "metadata": {},
   "outputs": [],
   "source": []
  },
  {
   "cell_type": "code",
   "execution_count": 2,
   "metadata": {},
   "outputs": [],
   "source": [
    "# %%telegram_send \"Эпохи обработаны\"!\n",
    "import telepot\n",
    "%load_ext ipytelegram\n",
    "%reload_ext ipytelegram\n",
    "%telegram_setup <AAFyFIYwdtDL_w1EK9t5X89H66vK_N-Fys> <1859374621>\n",
    "# bot = telepot.bot('1859374621:AAFyFIYwdtDL_w1EK9t5X89H66vK_N-FysU')\n",
    "# bot.getUpdates()['mesage']['chat']\n",
    "%telegram_setup 1859374621:AAFyFIYwdtDL_w1EK9t5X89H66vK_N-FysU 1338353058"
   ]
  },
  {
   "cell_type": "code",
   "execution_count": 3,
   "metadata": {},
   "outputs": [],
   "source": [
    "xls = pd.read_excel('df_для кластеров.xlsx')"
   ]
  },
  {
   "cell_type": "markdown",
   "metadata": {},
   "source": [
    "# Готовим данные"
   ]
  },
  {
   "cell_type": "code",
   "execution_count": 4,
   "metadata": {},
   "outputs": [],
   "source": [
    "df_pp = xls.copy(deep=True)\n",
    "df_pp = df_pp.loc[:, ~df_pp.columns.str.contains('^Unnamed')]\n",
    "df_pp = df_pp.replace(to_replace =',', value = '.', regex = True)\n",
    "#df.rename(columns={'Потребкредит': 'type_credit'}, inplace=True)\n",
    "df_pp = df_pp.fillna(0)\n",
    "#df_pp.dtypes\n",
    "#df_pp.columns"
   ]
  },
  {
   "cell_type": "code",
   "execution_count": 5,
   "metadata": {
    "scrolled": true
   },
   "outputs": [],
   "source": [
    "df = df_pp.drop(['№', 'name', \n",
    "       'legal', 'soft', 'sale', 'arhive'], axis = 1)\n",
    "\n",
    "# #df.dtypes\n",
    "# df.columns"
   ]
  },
  {
   "cell_type": "code",
   "execution_count": 6,
   "metadata": {},
   "outputs": [],
   "source": [
    "df_ds = pd.get_dummies(df, columns=[\"type\"])\n",
    "#df_ds = pd.get_dummies(df_ds, columns=[\"region\"])\n",
    "# # \n",
    "# #df_ds.head()\n",
    "\n",
    "\n"
   ]
  },
  {
   "cell_type": "code",
   "execution_count": 7,
   "metadata": {},
   "outputs": [],
   "source": [
    "\n",
    "from tensorflow.keras.models import Sequential\n",
    "from tensorflow.keras.layers import Dense\n",
    "import matplotlib.pyplot as plt\n",
    "import numpy as np\n",
    "%matplotlib inline "
   ]
  },
  {
   "cell_type": "code",
   "execution_count": 8,
   "metadata": {},
   "outputs": [],
   "source": [
    "#df_ds.columns"
   ]
  },
  {
   "cell_type": "code",
   "execution_count": 9,
   "metadata": {},
   "outputs": [],
   "source": [
    "df_train = df_ds #[df_ds['case'].isin([\"Сбер3\"])] #\n",
    "\n",
    "\n",
    "# Отбросим колонку, которую будем предсказывать.\n",
    "X_train = df_train.drop([ 'income_sum', 'income', 'target', 'tg_grade', 'case'], axis=1)\n",
    "# Создадим переменную, которую будем предсказывать.\n",
    "y_train = df_train.drop(['percent', 'sum', 'sum_od', '%_close_od', 'total_cession', 'dpd',\n",
    "       'last_payment_sum', 'age', 'telefon', 'case', 'deposit', 'sex',\n",
    "       'bankrupt', 'court', 'guarantor', 'dead', 'family_status', 'education',\n",
    "       'family', 'children', 'income_sum', 'income', 'tg_grade',\n",
    "       'type_auto', 'type_business', 'type_cards', 'type_consumer',\n",
    "       'type_education', 'type_hypothec', 'type_refinancing'], axis=1)\n",
    "\n",
    "\n",
    "df_test = df_ds[df_ds['case'].isin([\"Сбер4\"])] #\n",
    "\n",
    "\n",
    "# Отбросим колонку, которую будем предсказывать.\n",
    "X_test = df_test.drop([ 'income_sum', 'income', 'target', 'tg_grade', 'case'], axis=1)\n",
    "# Создадим переменную, которую будем предсказывать.\n",
    "y_test = df_test.drop(['percent', 'sum', 'sum_od', '%_close_od', 'total_cession', 'dpd',\n",
    "       'last_payment_sum', 'age', 'telefon', 'case', 'deposit', 'sex',\n",
    "       'bankrupt', 'court', 'guarantor', 'dead', 'family_status', 'education',\n",
    "       'family', 'children', 'income_sum', 'income', 'tg_grade',\n",
    "       'type_auto', 'type_business', 'type_cards', 'type_consumer',\n",
    "       'type_education', 'type_hypothec', 'type_refinancing'], axis=1)\n",
    "\n",
    "\n",
    "df_ros = df_ds[df_ds['case'].isin([\"Росбанк1\"])] #\n",
    "\n",
    "\n",
    "# Отбросим колонку, которую будем предсказывать.\n",
    "X_ros = df_ros.drop([ 'income_sum', 'income', 'target', 'tg_grade', 'case'], axis=1)\n",
    "# Создадим переменную, которую будем предсказывать.\n",
    "y_ros = df_ros.drop(['percent', 'sum', 'sum_od', '%_close_od', 'total_cession', 'dpd',\n",
    "       'last_payment_sum', 'age', 'telefon', 'case', 'deposit', 'sex',\n",
    "       'bankrupt', 'court', 'guarantor', 'dead', 'family_status', 'education',\n",
    "       'family', 'children', 'income_sum', 'income', 'tg_grade',\n",
    "       'type_auto', 'type_business', 'type_cards', 'type_consumer',\n",
    "       'type_education', 'type_hypothec', 'type_refinancing'], axis=1)\n",
    "#X_t\n",
    "\n",
    "# x_train.fillna(0)\n",
    "# x_test.fillna(0)\n",
    "\n"
   ]
  },
  {
   "cell_type": "code",
   "execution_count": 10,
   "metadata": {},
   "outputs": [],
   "source": [
    "# x_train\n",
    "# # y_train\n",
    "# x_test\n",
    "# # y_test"
   ]
  },
  {
   "cell_type": "code",
   "execution_count": 11,
   "metadata": {},
   "outputs": [],
   "source": [
    "import pandas as pd\n",
    "import numpy as np\n",
    "import os\n",
    "import tqdm\n",
    "import pickle\n",
    "from sklearn.preprocessing import StandardScaler\n",
    "\n",
    "from sklearn.model_selection import train_test_split, KFold\n",
    "from sklearn.metrics import roc_auc_score\n",
    "\n",
    "from catboost import CatBoostClassifier, Pool\n",
    "os.environ[\"CUDA_VISIBLE_DEVICES\"] = '0'\n",
    "\n",
    "np.warnings.filterwarnings('ignore')"
   ]
  },
  {
   "cell_type": "code",
   "execution_count": null,
   "metadata": {},
   "outputs": [],
   "source": [
    "\n"
   ]
  },
  {
   "cell_type": "code",
   "execution_count": 27,
   "metadata": {},
   "outputs": [],
   "source": [
    "scaler = StandardScaler()\n",
    "\n",
    "features_standardized = scaler.fit_transform(X_train)\n",
    "target_standardized = scaler.fit_transform(y_train)\n",
    "\n",
    "X_ros_st = scaler.fit_transform(X_ros)\n",
    "y_ros_st = scaler.fit_transform(y_ros)\n",
    "\n",
    "x_train = features_standardized\n",
    "y_train = target_standardized\n",
    "x_test = X_test\n",
    "y_test = y_test"
   ]
  },
  {
   "cell_type": "code",
   "execution_count": 28,
   "metadata": {},
   "outputs": [
    {
     "name": "stdout",
     "output_type": "stream",
     "text": [
      "Model: \"sequential_3\"\n",
      "_________________________________________________________________\n",
      "Layer (type)                 Output Shape              Param #   \n",
      "=================================================================\n",
      "dense_9 (Dense)              (None, 512)               13824     \n",
      "_________________________________________________________________\n",
      "dense_10 (Dense)             (None, 256)               131328    \n",
      "_________________________________________________________________\n",
      "dense_11 (Dense)             (None, 1)                 257       \n",
      "=================================================================\n",
      "Total params: 145,409\n",
      "Trainable params: 145,409\n",
      "Non-trainable params: 0\n",
      "_________________________________________________________________\n",
      "None\n"
     ]
    }
   ],
   "source": [
    "from tensorflow.keras.layers import Dense, Dropout\n",
    "model = Sequential()\n",
    "model.add(Dense(512, activation='relu', input_shape=(x_train.shape[1],)))\n",
    "#model.add(Dropout(0.5))\n",
    "\n",
    "model.add(Dense(256, activation='relu'))\n",
    "model.add(Dense(1, activation='sigmoid')) # sigmoid, т.к. данные от 0 до 1\n",
    "\n",
    "print(model.summary()) # архитектура нашей модели"
   ]
  },
  {
   "cell_type": "code",
   "execution_count": null,
   "metadata": {},
   "outputs": [],
   "source": []
  },
  {
   "cell_type": "code",
   "execution_count": 29,
   "metadata": {},
   "outputs": [
    {
     "name": "stdout",
     "output_type": "stream",
     "text": [
      "Epoch 1/3\n",
      "2040/2040 [==============================] - 5s 2ms/step - loss: -14061.8037 - accuracy: 0.0000e+00\n",
      "Epoch 2/3\n",
      "2040/2040 [==============================] - 4s 2ms/step - loss: -211361.1875 - accuracy: 0.0000e+00\n",
      "Epoch 3/3\n",
      "2040/2040 [==============================] - 4s 2ms/step - loss: -916875.1250 - accuracy: 0.0000e+00\n"
     ]
    },
    {
     "data": {
      "text/plain": [
       "<tensorflow.python.keras.callbacks.History at 0x268c4a27ca0>"
      ]
     },
     "execution_count": 29,
     "metadata": {},
     "output_type": "execute_result"
    }
   ],
   "source": [
    "model.compile(loss='binary_crossentropy',\n",
    "\n",
    "              optimizer='rmsprop',\n",
    "\n",
    "              metrics=['accuracy'])\n",
    "model.fit(x_train, y_train, batch_size=32, epochs=3)"
   ]
  },
  {
   "cell_type": "code",
   "execution_count": 26,
   "metadata": {},
   "outputs": [
    {
     "data": {
      "text/plain": [
       "63477    0.0\n",
       "63478    0.0\n",
       "63479    0.0\n",
       "63480    0.0\n",
       "63481    0.0\n",
       "        ... \n",
       "65245    0.0\n",
       "65246    0.0\n",
       "65247    0.0\n",
       "65248    0.0\n",
       "65249    0.0\n",
       "Name: pred, Length: 1773, dtype: float32"
      ]
     },
     "execution_count": 26,
     "metadata": {},
     "output_type": "execute_result"
    }
   ],
   "source": [
    " #X_ros = X_ros.drop([ 'pred'], axis=1)\n",
    "\n",
    "\n",
    "pred = model.predict(X_ros).flatten() \n",
    "\n",
    "\n",
    "#predictions = scaler.inverse_transform(predictions)\n",
    "X_ros['pred'] = pred\n",
    "\n",
    "\n",
    "writer = pd.ExcelWriter('X_ros_V0.1.xlsx')\n",
    "X_ros.to_excel(writer)\n",
    "writer.save()\n",
    "\n",
    "X_ros['pred']"
   ]
  },
  {
   "cell_type": "code",
   "execution_count": 25,
   "metadata": {},
   "outputs": [
    {
     "data": {
      "text/plain": [
       "array([0., 0., 0., ..., 0., 0., 0.], dtype=float32)"
      ]
     },
     "execution_count": 25,
     "metadata": {},
     "output_type": "execute_result"
    }
   ],
   "source": [
    "pred"
   ]
  },
  {
   "cell_type": "code",
   "execution_count": null,
   "metadata": {},
   "outputs": [],
   "source": []
  },
  {
   "cell_type": "code",
   "execution_count": null,
   "metadata": {},
   "outputs": [],
   "source": [
    "\n",
    "\n",
    "\n"
   ]
  },
  {
   "cell_type": "code",
   "execution_count": null,
   "metadata": {},
   "outputs": [],
   "source": []
  },
  {
   "cell_type": "code",
   "execution_count": null,
   "metadata": {},
   "outputs": [],
   "source": []
  },
  {
   "cell_type": "code",
   "execution_count": null,
   "metadata": {},
   "outputs": [],
   "source": []
  },
  {
   "cell_type": "code",
   "execution_count": null,
   "metadata": {},
   "outputs": [],
   "source": []
  },
  {
   "cell_type": "code",
   "execution_count": null,
   "metadata": {
    "scrolled": false
   },
   "outputs": [],
   "source": []
  },
  {
   "cell_type": "code",
   "execution_count": null,
   "metadata": {},
   "outputs": [],
   "source": []
  },
  {
   "cell_type": "code",
   "execution_count": null,
   "metadata": {},
   "outputs": [],
   "source": []
  },
  {
   "cell_type": "code",
   "execution_count": null,
   "metadata": {},
   "outputs": [],
   "source": []
  },
  {
   "cell_type": "code",
   "execution_count": null,
   "metadata": {},
   "outputs": [],
   "source": []
  },
  {
   "cell_type": "code",
   "execution_count": null,
   "metadata": {},
   "outputs": [],
   "source": []
  }
 ],
 "metadata": {
  "kernelspec": {
   "display_name": "Python 3",
   "language": "python",
   "name": "python3"
  },
  "language_info": {
   "codemirror_mode": {
    "name": "ipython",
    "version": 3
   },
   "file_extension": ".py",
   "mimetype": "text/x-python",
   "name": "python",
   "nbconvert_exporter": "python",
   "pygments_lexer": "ipython3",
   "version": "3.8.8"
  }
 },
 "nbformat": 4,
 "nbformat_minor": 4
}
